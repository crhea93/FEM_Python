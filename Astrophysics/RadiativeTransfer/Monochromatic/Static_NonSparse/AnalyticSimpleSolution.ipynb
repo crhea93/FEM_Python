{
 "cells": [
  {
   "cell_type": "code",
   "execution_count": 8,
   "metadata": {},
   "outputs": [
    {
     "data": {
      "text/plain": [
       "Eq(f(x, y), F(3*x - 2*y)*exp(-2*x/13 - 3*y/13))"
      ]
     },
     "execution_count": 8,
     "metadata": {},
     "output_type": "execute_result"
    }
   ],
   "source": [
    "from sympy.solvers.pde import pdsolve\n",
    "from sympy import Function, diff, Eq\n",
    "from sympy.abc import x, y,a,b\n",
    "f = Function('f')\n",
    "u = f(x, y)\n",
    "ux = u.diff(x)\n",
    "uy = u.diff(y)\n",
    "eq = 1 + (2*(ux/u)) + (3*(uy/u))\n",
    "pdsolve(eq)\n"
   ]
  },
  {
   "cell_type": "code",
   "execution_count": 9,
   "metadata": {
    "collapsed": true
   },
   "outputs": [],
   "source": [
    "from sympy.physics.mechanics import *\n",
    "N = ReferenceFrame('N')"
   ]
  },
  {
   "cell_type": "code",
   "execution_count": 10,
   "metadata": {},
   "outputs": [
    {
     "data": {
      "text/plain": [
       "Eq(f(x, y), F(-a*y + b*x))"
      ]
     },
     "execution_count": 10,
     "metadata": {},
     "output_type": "execute_result"
    }
   ],
   "source": [
    "eq = a*ux+b*uy\n",
    "pdsolve(eq)"
   ]
  },
  {
   "cell_type": "code",
   "execution_count": null,
   "metadata": {
    "collapsed": true
   },
   "outputs": [],
   "source": []
  }
 ],
 "metadata": {
  "kernelspec": {
   "display_name": "Python 3",
   "language": "python",
   "name": "python3"
  },
  "language_info": {
   "codemirror_mode": {
    "name": "ipython",
    "version": 3
   },
   "file_extension": ".py",
   "mimetype": "text/x-python",
   "name": "python",
   "nbconvert_exporter": "python",
   "pygments_lexer": "ipython3",
   "version": "3.6.3"
  }
 },
 "nbformat": 4,
 "nbformat_minor": 2
}
